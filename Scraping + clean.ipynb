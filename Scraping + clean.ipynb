{
  "nbformat": 4,
  "nbformat_minor": 0,
  "metadata": {
    "colab": {
      "provenance": [],
      "authorship_tag": "ABX9TyPxT/un5/qK91Xj9qFyVsRw",
      "include_colab_link": true
    },
    "kernelspec": {
      "name": "python3",
      "display_name": "Python 3"
    },
    "language_info": {
      "name": "python"
    }
  },
  "cells": [
    {
      "cell_type": "markdown",
      "metadata": {
        "id": "view-in-github",
        "colab_type": "text"
      },
      "source": [
        "<a href=\"https://colab.research.google.com/github/KangJ0n0/Datmin/blob/main/Scraping%20%2B%20clean.ipynb\" target=\"_parent\"><img src=\"https://colab.research.google.com/assets/colab-badge.svg\" alt=\"Open In Colab\"/></a>"
      ]
    },
    {
      "cell_type": "code",
      "execution_count": null,
      "metadata": {
        "id": "6iVM2KY7wbe_"
      },
      "outputs": [],
      "source": [
        "!pip install -qq google-play-scraper"
      ]
    },
    {
      "cell_type": "code",
      "source": [
        "import json\n",
        "import pandas as pd\n",
        "from tqdm import tqdm\n",
        "from google_play_scraper import Sort, reviews, app\n",
        "import nltk\n",
        "from pygments import highlight\n",
        "from pygments.lexers import JsonLexer\n",
        "from pygments.formatters import TerminalFormatter\n",
        "\n"
      ],
      "metadata": {
        "id": "hDi6nEcm00m8"
      },
      "execution_count": null,
      "outputs": []
    },
    {
      "cell_type": "code",
      "source": [
        "from google.colab import drive\n",
        "drive.mount('/content/gdrive', force_remount=True)\n",
        "path = \"gdrive/MyDrive/\""
      ],
      "metadata": {
        "colab": {
          "base_uri": "https://localhost:8080/"
        },
        "id": "Lg7QJgCt1GeU",
        "outputId": "8f50793f-1f4b-4872-ee5d-b1c731b14fbb"
      },
      "execution_count": null,
      "outputs": [
        {
          "output_type": "stream",
          "name": "stdout",
          "text": [
            "Mounted at /content/gdrive\n"
          ]
        }
      ]
    },
    {
      "cell_type": "code",
      "source": [
        "app_packages = [\n",
        "    'blibli.mobile.commerce',\n",
        "]"
      ],
      "metadata": {
        "id": "C-OG2_011JIE"
      },
      "execution_count": null,
      "outputs": []
    },
    {
      "cell_type": "code",
      "source": [
        "app_infos = []\n",
        "\n",
        "for application in tqdm (app_packages):\n",
        "  info =  app (application, lang = 'id', country = 'id')\n",
        "  del info['comments']\n",
        "  app_infos.append(info)"
      ],
      "metadata": {
        "colab": {
          "base_uri": "https://localhost:8080/"
        },
        "id": "wgPI1dfj1Msv",
        "outputId": "7c6ae02c-65fb-4bac-ec4d-d0f57b73557d"
      },
      "execution_count": null,
      "outputs": [
        {
          "output_type": "stream",
          "name": "stderr",
          "text": [
            "100%|██████████| 1/1 [00:00<00:00,  5.41it/s]\n"
          ]
        }
      ]
    },
    {
      "cell_type": "code",
      "source": [
        "app_reviews = []\n",
        "\n",
        "for ap in tqdm(app_packages):\n",
        "  for score in list (range(1,6)):\n",
        "    for sort_order in [Sort.MOST_RELEVANT, Sort.NEWEST]:\n",
        "      rvs, _ = reviews (\n",
        "          ap,\n",
        "          lang = 'id',\n",
        "          country = 'id',\n",
        "          sort=sort_order,\n",
        "          count=200 if score == 3 else 100,\n",
        "          filter_score_with = score\n",
        "      )\n",
        "      for r in rvs :\n",
        "        r['sortOrder'] = 'most_relevant' if sort_order == Sort.MOST_RELEVANT else 'newest'\n",
        "        r['appId'] = ap\n",
        "      app_reviews.extend(rvs)"
      ],
      "metadata": {
        "colab": {
          "base_uri": "https://localhost:8080/"
        },
        "id": "cjYKczSN1R3_",
        "outputId": "31789ccf-1194-4733-a710-c7505311bc3e"
      },
      "execution_count": null,
      "outputs": [
        {
          "output_type": "stream",
          "name": "stderr",
          "text": [
            "100%|██████████| 1/1 [00:03<00:00,  3.99s/it]\n"
          ]
        }
      ]
    },
    {
      "cell_type": "code",
      "source": [
        "def clean_text(text):\n",
        "    text = re.sub(r'[^\\w\\s]', '', text)  # Remove punctuation\n",
        "    text = re.sub(r'\\d+', '', text)  # Remove numbers\n",
        "    text = text.encode('ascii', 'ignore').decode('ascii')  # Remove emojis and non-ASCII characters\n",
        "    return text"
      ],
      "metadata": {
        "id": "PWanqaiq2za7"
      },
      "execution_count": null,
      "outputs": []
    },
    {
      "cell_type": "code",
      "source": [
        "app_reviews_df = pd.DataFrame(app_reviews)"
      ],
      "metadata": {
        "id": "iAkBv4eb1WLO"
      },
      "execution_count": null,
      "outputs": []
    },
    {
      "cell_type": "code",
      "source": [
        "app_reviews_df = app_reviews_df.sort_values([\"appId\",\"at\"])"
      ],
      "metadata": {
        "id": "ZqmzfwgS1Y2y"
      },
      "execution_count": null,
      "outputs": []
    },
    {
      "cell_type": "code",
      "source": [
        "app_reviews_df.to_csv (path+'hasilreviewstest.csv', index = None, header=True)"
      ],
      "metadata": {
        "id": "fdHg7scv1a_h"
      },
      "execution_count": null,
      "outputs": []
    },
    {
      "cell_type": "markdown",
      "source": [],
      "metadata": {
        "id": "RAD9Z_JD00M-"
      }
    }
  ]
}